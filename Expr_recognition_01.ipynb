{
  "nbformat": 4,
  "nbformat_minor": 0,
  "metadata": {
    "colab": {
      "provenance": [],
      "include_colab_link": true
    },
    "kernelspec": {
      "name": "python3",
      "display_name": "Python 3"
    },
    "language_info": {
      "name": "python"
    }
  },
  "cells": [
    {
      "cell_type": "markdown",
      "metadata": {
        "id": "view-in-github",
        "colab_type": "text"
      },
      "source": [
        "<a href=\"https://colab.research.google.com/github/tvani2/Neural-Networks-Facial-Expression-Recognition-Challenge/blob/main/Expr_recognition_01.ipynb\" target=\"_parent\"><img src=\"https://colab.research.google.com/assets/colab-badge.svg\" alt=\"Open In Colab\"/></a>"
      ]
    },
    {
      "cell_type": "markdown",
      "source": [
        "# Setup"
      ],
      "metadata": {
        "id": "HLXKSBViSonz"
      }
    },
    {
      "cell_type": "markdown",
      "source": [
        "Install the kaggle python library"
      ],
      "metadata": {
        "id": "7lvdgeEMgCoy"
      }
    },
    {
      "cell_type": "code",
      "execution_count": 1,
      "metadata": {
        "colab": {
          "base_uri": "https://localhost:8080/"
        },
        "id": "KlwSaX9akGfG",
        "outputId": "a9640db2-5f49-45e2-c340-73b2041477f6"
      },
      "outputs": [
        {
          "output_type": "stream",
          "name": "stdout",
          "text": [
            "\u001b[2K   \u001b[90m━━━━━━━━━━━━━━━━━━━━━━━━━━━━━━━━━━━━━━━━\u001b[0m \u001b[32m17.6/17.6 MB\u001b[0m \u001b[31m19.9 MB/s\u001b[0m eta \u001b[36m0:00:00\u001b[0m\n",
            "\u001b[?25h"
          ]
        }
      ],
      "source": [
        "!pip install kaggle wandb onnx -Uq"
      ]
    },
    {
      "cell_type": "markdown",
      "source": [
        "Mount the Google drive so you can store your kaggle API credentials for future use"
      ],
      "metadata": {
        "id": "rw0DfSAggHED"
      }
    },
    {
      "cell_type": "code",
      "source": [
        "from google.colab import drive\n",
        "drive.mount('/content/drive')"
      ],
      "metadata": {
        "colab": {
          "base_uri": "https://localhost:8080/"
        },
        "id": "NGineQt7dErh",
        "outputId": "70190b6d-8d33-41d2-b8c4-87ae877b607a"
      },
      "execution_count": 2,
      "outputs": [
        {
          "output_type": "stream",
          "name": "stdout",
          "text": [
            "Mounted at /content/drive\n"
          ]
        }
      ]
    },
    {
      "cell_type": "markdown",
      "source": [
        "Make a directory for kaggle at the temporary instance location on Colab drive.\n",
        "\n",
        "Download your kaggle API key (.json file). You can do this by going to your kaggle account page and clicking 'Create new API token' under the API section."
      ],
      "metadata": {
        "id": "Rvmi3WbigOmT"
      }
    },
    {
      "cell_type": "markdown",
      "source": [],
      "metadata": {
        "id": "vhywUxLXgjBS"
      }
    },
    {
      "cell_type": "code",
      "source": [
        "! mkdir ~/.kaggle"
      ],
      "metadata": {
        "id": "ZTkKggcylXfa"
      },
      "execution_count": 3,
      "outputs": []
    },
    {
      "cell_type": "markdown",
      "source": [
        "If you want to copy the kaggle API credentials to the temporary location... (I recommend placing it on your Google Drive)"
      ],
      "metadata": {
        "id": "rKv_7jNggXv7"
      }
    },
    {
      "cell_type": "code",
      "source": [
        "#! cp kaggle.json ~/.kaggle/"
      ],
      "metadata": {
        "id": "DD56NrWmlb5V"
      },
      "execution_count": 4,
      "outputs": []
    },
    {
      "cell_type": "markdown",
      "source": [
        "Upload the json file to Google Drive and then copy to the temporary location."
      ],
      "metadata": {
        "id": "p3N4it0xrFmU"
      }
    },
    {
      "cell_type": "code",
      "source": [
        "!cp /content/drive/MyDrive/cs231n/assignments/assignment4/kaggle.json ~/.kaggle/kaggle.json"
      ],
      "metadata": {
        "id": "IQq6ZMyTrEfO"
      },
      "execution_count": 5,
      "outputs": []
    },
    {
      "cell_type": "markdown",
      "source": [
        "Change the file permissions to read/write to the owner only"
      ],
      "metadata": {
        "id": "p3dHJgtLehrM"
      }
    },
    {
      "cell_type": "code",
      "source": [
        "! chmod 600 ~/.kaggle/kaggle.json"
      ],
      "metadata": {
        "id": "7ncAtrq2lg5F"
      },
      "execution_count": 6,
      "outputs": []
    },
    {
      "cell_type": "markdown",
      "source": [
        "**Competitions and Datasets are the two types of Kaggle data**"
      ],
      "metadata": {
        "id": "Rb3Zm9VMlu3t"
      }
    },
    {
      "cell_type": "markdown",
      "source": [
        "**1. Download competition data**\n",
        "\n",
        "If you get 403 Forbidden error, you need to click 'Late Submission' on the Kaggle page for that competition."
      ],
      "metadata": {
        "id": "OrdSFfGjl3Ud"
      }
    },
    {
      "cell_type": "code",
      "source": [
        "!kaggle competitions download -c challenges-in-representation-learning-facial-expression-recognition-challenge"
      ],
      "metadata": {
        "colab": {
          "base_uri": "https://localhost:8080/"
        },
        "id": "C0yNdtoRln8A",
        "outputId": "d8230dac-4578-43d6-a4aa-2d51157008fd"
      },
      "execution_count": 7,
      "outputs": [
        {
          "output_type": "stream",
          "name": "stdout",
          "text": [
            "Downloading challenges-in-representation-learning-facial-expression-recognition-challenge.zip to /content\n",
            " 99% 282M/285M [00:03<00:00, 33.9MB/s]\n",
            "100% 285M/285M [00:03<00:00, 81.3MB/s]\n"
          ]
        }
      ]
    },
    {
      "cell_type": "markdown",
      "source": [
        "Unzip, in case the downloaded file is zipped. Refresh the files on the left hand side to update the view."
      ],
      "metadata": {
        "id": "fRmXZnHghNAz"
      }
    },
    {
      "cell_type": "code",
      "source": [
        "! unzip challenges-in-representation-learning-facial-expression-recognition-challenge"
      ],
      "metadata": {
        "colab": {
          "base_uri": "https://localhost:8080/"
        },
        "id": "dAs9oVnNoziL",
        "outputId": "9dde318f-2738-48da-cd21-329bc2c200dc"
      },
      "execution_count": 8,
      "outputs": [
        {
          "output_type": "stream",
          "name": "stdout",
          "text": [
            "Archive:  challenges-in-representation-learning-facial-expression-recognition-challenge.zip\n",
            "  inflating: example_submission.csv  \n",
            "  inflating: fer2013.tar.gz          \n",
            "  inflating: icml_face_data.csv      \n",
            "  inflating: test.csv                \n",
            "  inflating: train.csv               \n"
          ]
        }
      ]
    },
    {
      "cell_type": "code",
      "source": [
        "import wandb\n",
        "wandb login --relogin"
      ],
      "metadata": {
        "colab": {
          "base_uri": "https://localhost:8080/",
          "height": 211
        },
        "id": "wYHzoaM3T_xc",
        "outputId": "391a0bd1-74c5-483c-bd2b-5951dbcdc96e"
      },
      "execution_count": 9,
      "outputs": [
        {
          "output_type": "display_data",
          "data": {
            "text/plain": [
              "<IPython.core.display.Javascript object>"
            ],
            "application/javascript": [
              "\n",
              "        window._wandbApiKey = new Promise((resolve, reject) => {\n",
              "            function loadScript(url) {\n",
              "            return new Promise(function(resolve, reject) {\n",
              "                let newScript = document.createElement(\"script\");\n",
              "                newScript.onerror = reject;\n",
              "                newScript.onload = resolve;\n",
              "                document.body.appendChild(newScript);\n",
              "                newScript.src = url;\n",
              "            });\n",
              "            }\n",
              "            loadScript(\"https://cdn.jsdelivr.net/npm/postmate/build/postmate.min.js\").then(() => {\n",
              "            const iframe = document.createElement('iframe')\n",
              "            iframe.style.cssText = \"width:0;height:0;border:none\"\n",
              "            document.body.appendChild(iframe)\n",
              "            const handshake = new Postmate({\n",
              "                container: iframe,\n",
              "                url: 'https://wandb.ai/authorize'\n",
              "            });\n",
              "            const timeout = setTimeout(() => reject(\"Couldn't auto authenticate\"), 5000)\n",
              "            handshake.then(function(child) {\n",
              "                child.on('authorize', data => {\n",
              "                    clearTimeout(timeout)\n",
              "                    resolve(data)\n",
              "                });\n",
              "            });\n",
              "            })\n",
              "        });\n",
              "    "
            ]
          },
          "metadata": {}
        },
        {
          "output_type": "stream",
          "name": "stderr",
          "text": [
            "\u001b[34m\u001b[1mwandb\u001b[0m: Logging into wandb.ai. (Learn how to deploy a W&B server locally: https://wandb.me/wandb-server)\n",
            "\u001b[34m\u001b[1mwandb\u001b[0m: You can find your API key in your browser here: https://wandb.ai/authorize\n",
            "wandb: Paste an API key from your profile and hit enter:"
          ]
        },
        {
          "name": "stdout",
          "output_type": "stream",
          "text": [
            " ··········\n"
          ]
        },
        {
          "output_type": "stream",
          "name": "stderr",
          "text": [
            "\u001b[34m\u001b[1mwandb\u001b[0m: \u001b[33mWARNING\u001b[0m If you're specifying your api key in code, ensure this code is not shared publicly.\n",
            "\u001b[34m\u001b[1mwandb\u001b[0m: \u001b[33mWARNING\u001b[0m Consider setting the WANDB_API_KEY environment variable, or running `wandb login` from the command line.\n",
            "\u001b[34m\u001b[1mwandb\u001b[0m: No netrc file found, creating one.\n",
            "\u001b[34m\u001b[1mwandb\u001b[0m: Appending key for api.wandb.ai to your netrc file: /root/.netrc\n",
            "\u001b[34m\u001b[1mwandb\u001b[0m: Currently logged in as: \u001b[33mtvani22\u001b[0m (\u001b[33mtvani22-free-university-of-tbilisi\u001b[0m) to \u001b[32mhttps://api.wandb.ai\u001b[0m. Use \u001b[1m`wandb login --relogin`\u001b[0m to force relogin\n"
          ]
        },
        {
          "output_type": "execute_result",
          "data": {
            "text/plain": [
              "True"
            ]
          },
          "metadata": {},
          "execution_count": 9
        }
      ]
    },
    {
      "cell_type": "code",
      "source": [
        "run = wandb.init(\n",
        "    project=\"Facial_Expression_Recognition_1\",\n",
        "    config={\n",
        "        \"learning_rate\": 0.001,\n",
        "        \"epochs\": 10,\n",
        "        \"batch_size\": 64,\n",
        "        \"optimizer\": \"Adam\",\n",
        "        \"loss_function\": \"CrossEntropyLoss\",\n",
        "        \"architecture\": \"SimpleCNN\",\n",
        "    }\n",
        ")"
      ],
      "metadata": {
        "colab": {
          "base_uri": "https://localhost:8080/",
          "height": 121
        },
        "id": "WiVpQi-aV3xJ",
        "outputId": "ff710a61-c649-474e-cacd-7866883f344e"
      },
      "execution_count": 10,
      "outputs": [
        {
          "output_type": "display_data",
          "data": {
            "text/plain": [
              "<IPython.core.display.HTML object>"
            ],
            "text/html": [
              "Tracking run with wandb version 0.19.11"
            ]
          },
          "metadata": {}
        },
        {
          "output_type": "display_data",
          "data": {
            "text/plain": [
              "<IPython.core.display.HTML object>"
            ],
            "text/html": [
              "Run data is saved locally in <code>/content/wandb/run-20250530_201217-htxkjz7b</code>"
            ]
          },
          "metadata": {}
        },
        {
          "output_type": "display_data",
          "data": {
            "text/plain": [
              "<IPython.core.display.HTML object>"
            ],
            "text/html": [
              "Syncing run <strong><a href='https://wandb.ai/tvani22-free-university-of-tbilisi/Facial_Expression_Recognition_1/runs/htxkjz7b' target=\"_blank\">crimson-salad-2</a></strong> to <a href='https://wandb.ai/tvani22-free-university-of-tbilisi/Facial_Expression_Recognition_1' target=\"_blank\">Weights & Biases</a> (<a href='https://wandb.me/developer-guide' target=\"_blank\">docs</a>)<br>"
            ]
          },
          "metadata": {}
        },
        {
          "output_type": "display_data",
          "data": {
            "text/plain": [
              "<IPython.core.display.HTML object>"
            ],
            "text/html": [
              " View project at <a href='https://wandb.ai/tvani22-free-university-of-tbilisi/Facial_Expression_Recognition_1' target=\"_blank\">https://wandb.ai/tvani22-free-university-of-tbilisi/Facial_Expression_Recognition_1</a>"
            ]
          },
          "metadata": {}
        },
        {
          "output_type": "display_data",
          "data": {
            "text/plain": [
              "<IPython.core.display.HTML object>"
            ],
            "text/html": [
              " View run at <a href='https://wandb.ai/tvani22-free-university-of-tbilisi/Facial_Expression_Recognition_1/runs/htxkjz7b' target=\"_blank\">https://wandb.ai/tvani22-free-university-of-tbilisi/Facial_Expression_Recognition_1/runs/htxkjz7b</a>"
            ]
          },
          "metadata": {}
        }
      ]
    },
    {
      "cell_type": "code",
      "source": [
        "import wandb\n",
        "import os\n",
        "import pandas as pd\n",
        "# Create a wandb artifact\n",
        "# Reference [1] explains how to create an artifact with a type and project\n",
        "raw_data_artifact = wandb.Artifact(\n",
        "    name=\"facial-expression-dataset\",\n",
        "    type=\"dataset\",\n",
        "    description=\"Facial Expression Recognition Challenge Dataset\"\n",
        ")\n",
        "# Log the artifact to the current run\n",
        "wandb.log_artifact(raw_data_artifact)\n",
        "\n",
        "print(\"Data loaded and logged as a wandb artifact.\")"
      ],
      "metadata": {
        "colab": {
          "base_uri": "https://localhost:8080/"
        },
        "id": "fg_0qvYyyweO",
        "outputId": "eaffbfe7-f602-41c9-beb2-41dc819d5769"
      },
      "execution_count": 11,
      "outputs": [
        {
          "output_type": "stream",
          "name": "stdout",
          "text": [
            "Data loaded and logged as a wandb artifact.\n"
          ]
        }
      ]
    },
    {
      "cell_type": "code",
      "source": [
        "import torch # Main PyTorch Library\n",
        "from torch import nn # Used for creating the layers and loss function\n",
        "from torch.optim import Adam # Adam Optimizer\n",
        "import torchvision.transforms as transforms # Transform function used to modify and preprocess all the images\n",
        "from torch.utils.data import Dataset, DataLoader # Dataset class and DataLoader for creating the objects\n",
        "from sklearn.preprocessing import LabelEncoder # Label Encoder to encode the classes from strings to numbers\n",
        "import matplotlib.pyplot as plt # Used for visualizing the images and plotting the training progress\n",
        "from PIL import Image # Used to read the images from the directory\n",
        "import pandas as pd # Used to read/create dataframes (csv) and process tabular data\n",
        "import numpy as np # preprocessing and numerical/mathematical operations\n",
        "import os # Used to read the images path from the directory\n",
        "\n",
        "device = \"cuda\" if torch.cuda.is_available() else \"cpu\" # detect the GPU if any, if not use CPU, change cuda to mps if you have a mac\n",
        "print(\"Device available: \", device)"
      ],
      "metadata": {
        "colab": {
          "base_uri": "https://localhost:8080/"
        },
        "id": "OeJYuOR732qc",
        "outputId": "645b2b68-0cf4-4853-acb4-d91f0eb526a3"
      },
      "execution_count": 12,
      "outputs": [
        {
          "output_type": "stream",
          "name": "stdout",
          "text": [
            "Device available:  cpu\n"
          ]
        }
      ]
    },
    {
      "cell_type": "code",
      "source": [
        "import pandas as pd\n",
        "import numpy as np\n",
        "import matplotlib.pyplot as plt\n",
        "from PIL import Image # Import Image for potential future use if needed, though not strictly required for this task\n",
        "\n",
        "# Load the dataset\n",
        "# Change the file path to the correct location after unzipping\n",
        "df = pd.read_csv('./train.csv')\n",
        "\n",
        "# Function to convert pixels string to image array\n",
        "def pixels_to_image(pixels_str):\n",
        "    pixels = np.array([int(p) for p in pixels_str.split()], dtype='uint8')\n",
        "    image = pixels.reshape(48, 48)\n",
        "    return image\n",
        "\n",
        "# Get unique emotion labels\n",
        "emotions = df['emotion'].unique()\n",
        "\n",
        "# Create a figure and axes for plotting\n",
        "fig, axes = plt.subplots(1, len(emotions), figsize=(20, 5))\n",
        "\n",
        "# Iterate through each emotion and display one image\n",
        "for i, emotion in enumerate(emotions):\n",
        "    # Find the first row in the DataFrame that has the current emotion\n",
        "    row = df[df['emotion'] == emotion].iloc[0]\n",
        "\n",
        "    # Convert the pixels string to an image array\n",
        "    image = pixels_to_image(row['pixels'])\n",
        "\n",
        "    # Display the image on the corresponding subplot\n",
        "    axes[i].imshow(image, cmap='gray')\n",
        "    axes[i].set_title(f\"Emotion: {emotion}\")\n",
        "    axes[i].axis('off') # Hide the axes\n",
        "\n",
        "# Adjust layout to prevent titles from overlapping\n",
        "plt.tight_layout()\n",
        "plt.show()"
      ],
      "metadata": {
        "colab": {
          "base_uri": "https://localhost:8080/",
          "height": 115
        },
        "id": "KBazYq5J6KYd",
        "outputId": "060316f8-4f07-4646-bbe4-de3ab91ab85c"
      },
      "execution_count": 13,
      "outputs": [
        {
          "output_type": "display_data",
          "data": {
            "text/plain": [
              "<Figure size 2000x500 with 7 Axes>"
            ],
            "image/png": "[encoded data removed]"
          },
          "metadata": {}
        }
      ]
    },
    {
      "cell_type": "code",
      "source": [
        "import seaborn as sns\n",
        "\n",
        "# Countplot of emotion distribution\n",
        "plt.figure(figsize=(8, 4))\n",
        "sns.countplot(x='emotion', data=df)\n",
        "plt.title('Distribution of Emotions')\n",
        "plt.xlabel('Emotion Label')\n",
        "plt.ylabel('Count')\n",
        "plt.show()"
      ],
      "metadata": {
        "colab": {
          "base_uri": "https://localhost:8080/",
          "height": 368
        },
        "id": "QnzoHYJGch7T",
        "outputId": "0f604c96-e010-4497-f07a-e90664bc3cbc"
      },
      "execution_count": 14,
      "outputs": [
        {
          "output_type": "display_data",
          "data": {
            "text/plain": [
              "<Figure size 800x400 with 1 Axes>"
            ],
            "image/png": "[encoded data removed]"
          },
          "metadata": {}
        }
      ]
    },
    {
      "cell_type": "code",
      "source": [
        "import pandas as pd\n",
        "import numpy as np\n",
        "\n",
        "# Function to convert pixels string to image array\n",
        "def pixels_to_image_array(pixels_str):\n",
        "    \"\"\"\n",
        "    Converts a space-separated string of pixel values into a 48x48 NumPy array.\n",
        "\n",
        "    Args:\n",
        "        pixels_str (str): A string containing space-separated pixel values.\n",
        "\n",
        "    Returns:\n",
        "        numpy.ndarray: A 48x48 NumPy array representing the image.\n",
        "    \"\"\"\n",
        "    # Split the string by spaces, convert each element to an integer,\n",
        "    # and create a NumPy array of dtype uint8 (unsigned 8-bit integer, standard for pixel values 0-255).\n",
        "    pixels = np.array(pixels_str.split(), dtype='uint8')\n",
        "\n",
        "    # Reshape the 1D array into a 48x48 2D array (row major order).\n",
        "    image = pixels.reshape(48, 48)\n",
        "\n",
        "    return image\n",
        "\n",
        "# Apply the function to the 'pixels' column\n",
        "# This will create a new column (or replace the existing one)\n",
        "# where each entry is now a 48x48 NumPy array instead of a string.\n",
        "df['pixels'] = df['pixels'].apply(pixels_to_image_array)\n",
        "\n",
        "# Display the first few rows to verify the change (optional)\n",
        "print(\"DataFrame after converting 'pixels' strings to NumPy arrays:\")\n",
        "print(df.head())\n",
        "\n",
        "# You can access an image array like this:\n",
        "# first_image_array = df.iloc[0]['pixels']\n",
        "# print(\"\\nShape of the first image array:\", first_image_array.shape)\n",
        "# print(\"Data type of the first image array:\", first_image_array.dtype)"
      ],
      "metadata": {
        "colab": {
          "base_uri": "https://localhost:8080/"
        },
        "id": "V6ymZw28uN2u",
        "outputId": "fd2cee0b-da02-4c83-887d-5241204493a9"
      },
      "execution_count": 15,
      "outputs": [
        {
          "output_type": "stream",
          "name": "stdout",
          "text": [
            "DataFrame after converting 'pixels' strings to NumPy arrays:\n",
            "   emotion                                             pixels\n",
            "0        0  [[70, 80, 82, 72, 58, 58, 60, 63, 54, 58, 60, ...\n",
            "1        0  [[151, 150, 147, 155, 148, 133, 111, 140, 170,...\n",
            "2        2  [[231, 212, 156, 164, 174, 138, 161, 173, 182,...\n",
            "3        4  [[24, 32, 36, 30, 32, 23, 19, 20, 30, 41, 21, ...\n",
            "4        6  [[4, 0, 0, 0, 0, 0, 0, 0, 0, 0, 0, 0, 3, 15, 2...\n"
          ]
        }
      ]
    },
    {
      "cell_type": "code",
      "source": [
        "import pandas as pd\n",
        "import numpy as np\n",
        "from sklearn.model_selection import train_test_split\n",
        "\n",
        "# --- Split Data ---\n",
        "\n",
        "# Define the features (X) and labels (y)\n",
        "# X will be the 'pixels' column (NumPy arrays)\n",
        "# y will be the 'emotion' column (numerical labels)\n",
        "X = df['pixels']\n",
        "y = df['emotion']\n",
        "\n",
        "# We already know the total training set size is 28709.\n",
        "# We need to split this into train, validation, and *a new* test set for this process.\n",
        "# Note: This new test set is drawn from the original *training* data\n",
        "# and is separate from the test set already provided in the competition.\n",
        "# It's good practice to hold out a portion of your *original training data*\n",
        "# as a final evaluation set, especially if the competition doesn't provide\n",
        "# a public/private split on their test set or if you want more control\n",
        "# over your final performance estimation.\n",
        "\n",
        "# Let's choose a split percentage. A common split is 70% train, 15% validation, 15% test\n",
        "# from the original training data (28709 samples).\n",
        "\n",
        "train_size = 0.70\n",
        "val_size = 0.15\n",
        "test_size = 0.15 # This is for our *new* test set from the original train data\n",
        "\n",
        "# First, split into training + validation and the new test set\n",
        "# Use stratify=y to ensure the emotion distribution is preserved\n",
        "X_temp, X_test_new, y_temp, y_test_new = train_test_split(\n",
        "    X, y, test_size=test_size, random_state=42, stratify=y\n",
        ")\n",
        "\n",
        "# Now, split the temporary set (X_temp, y_temp) into training and validation sets\n",
        "# The proportion for the validation set is calculated relative to the *temporary* set size.\n",
        "# val_size / (train_size + val_size) = 0.15 / (0.70 + 0.15) = 0.15 / 0.85\n",
        "X_train, X_val, y_train, y_val = train_test_split(\n",
        "    X_temp, y_temp, test_size=(val_size / (train_size + val_size)), random_state=42, stratify=y_temp\n",
        ")\n",
        "\n",
        "# Display the sizes of the new sets\n",
        "print(f\"Original Training Data Size: {len(df)}\")\n",
        "print(f\"New Training Set Size: {len(X_train)}\")\n",
        "print(f\"Validation Set Size: {len(X_val)}\")\n",
        "print(f\"New Test Set Size (from original train data): {len(X_test_new)}\")\n",
        "\n",
        "# Optional: Verify the distribution in each set\n",
        "print(\"\\nEmotion distribution in New Training Set:\")\n",
        "print(y_train.value_counts(normalize=True))\n",
        "\n",
        "print(\"\\nEmotion distribution in Validation Set:\")\n",
        "print(y_val.value_counts(normalize=True))\n",
        "\n",
        "print(\"\\nEmotion distribution in New Test Set:\")\n",
        "print(y_test_new.value_counts(normalize=True))\n",
        "\n",
        "# Note: X_train, X_val, X_test_new now contain pandas Series where each element\n",
        "# is a 48x48 NumPy array. y_train, y_val, y_test_new are pandas Series\n",
        "# containing the corresponding integer emotion labels."
      ],
      "metadata": {
        "colab": {
          "base_uri": "https://localhost:8080/"
        },
        "id": "pqIfptlWucM_",
        "outputId": "6e05861a-3227-4488-a9dc-9cff6e1161ef"
      },
      "execution_count": 16,
      "outputs": [
        {
          "output_type": "stream",
          "name": "stdout",
          "text": [
            "Original Training Data Size: 28709\n",
            "New Training Set Size: 20095\n",
            "Validation Set Size: 4307\n",
            "New Test Set Size (from original train data): 4307\n",
            "\n",
            "Emotion distribution in New Training Set:\n",
            "emotion\n",
            "3    0.251356\n",
            "6    0.172929\n",
            "4    0.168201\n",
            "2    0.142672\n",
            "0    0.139189\n",
            "5    0.110425\n",
            "1    0.015228\n",
            "Name: proportion, dtype: float64\n",
            "\n",
            "Emotion distribution in Validation Set:\n",
            "emotion\n",
            "3    0.251219\n",
            "6    0.172974\n",
            "4    0.168331\n",
            "2    0.142791\n",
            "0    0.139076\n",
            "5    0.110518\n",
            "1    0.015092\n",
            "Name: proportion, dtype: float64\n",
            "\n",
            "Emotion distribution in New Test Set:\n",
            "emotion\n",
            "3    0.251219\n",
            "6    0.172974\n",
            "4    0.168331\n",
            "2    0.142791\n",
            "0    0.139076\n",
            "5    0.110518\n",
            "1    0.015092\n",
            "Name: proportion, dtype: float64\n"
          ]
        }
      ]
    },
    {
      "cell_type": "code",
      "source": [
        "import pandas as pd\n",
        "import numpy as np\n",
        "from sklearn.model_selection import train_test_split\n",
        "\n",
        "# --- Convert pandas Series of arrays to single NumPy array ---\n",
        "# Stack the 48x48 arrays in the Series into a single 3D NumPy array\n",
        "X_train_np = np.stack(X_train.values)\n",
        "X_val_np = np.stack(X_val.values)\n",
        "X_test_new_np = np.stack(X_test_new.values)\n",
        "\n",
        "# Add a channel dimension (for grayscale images, this will be 1)\n",
        "# Deep learning frameworks expect image data in the format (batch_size, channels, height, width)\n",
        "# or (batch_size, height, width, channels). Let's add the channel dimension at the end.\n",
        "X_train_np = np.expand_dims(X_train_np, axis=-1)\n",
        "X_val_np = np.expand_dims(X_val_np, axis=-1)\n",
        "X_test_new_np = np.expand_dims(X_test_new_np, axis=-1)\n",
        "\n",
        "\n",
        "# --- Normalization Function ---\n",
        "def normalize_pixels(image_array):\n",
        "    \"\"\"\n",
        "    Scales pixel values from [0, 255] to [0, 1].\n",
        "\n",
        "    Args:\n",
        "        image_array (numpy.ndarray): Input image data (can be 2D or 3D/4D array).\n",
        "\n",
        "    Returns:\n",
        "        numpy.ndarray: Normalized image data.\n",
        "    \"\"\"\n",
        "    # Ensure the data type is float before division\n",
        "    # Dividing uint8 by an integer might perform integer division.\n",
        "    # Dividing uint8 by a float results in float.\n",
        "    return image_array / 255.0\n",
        "\n",
        "# --- Apply Normalization ---\n",
        "X_train_normalized = normalize_pixels(X_train_np)\n",
        "X_val_normalized = normalize_pixels(X_val_np)\n",
        "X_test_new_normalized = normalize_pixels(X_test_new_np)\n",
        "\n",
        "\n",
        "# --- Verification (Optional) ---\n",
        "print(\"Original Data Type:\", X_train_np.dtype)\n",
        "print(\"Normalized Data Type:\", X_train_normalized.dtype)\n",
        "print(\"Original Min/Max (first image):\", X_train_np[0].min(), X_train_np[0].max())\n",
        "print(\"Normalized Min/Max (first image):\", X_train_normalized[0].min(), X_train_normalized[0].max())\n",
        "\n",
        "print(\"\\nShape of normalized training data:\", X_train_normalized.shape)\n",
        "print(\"Shape of normalized validation data:\", X_val_normalized.shape)\n",
        "print(\"Shape of normalized new test data:\", X_test_new_normalized.shape)\n",
        "\n",
        "# The normalized data is now in these variables:\n",
        "# X_train_normalized, X_val_normalized, X_test_new_normalized"
      ],
      "metadata": {
        "colab": {
          "base_uri": "https://localhost:8080/"
        },
        "id": "46IAXk5Y25fm",
        "outputId": "257448f8-4c63-4de9-f89c-570a542ae441"
      },
      "execution_count": 17,
      "outputs": [
        {
          "output_type": "stream",
          "name": "stdout",
          "text": [
            "Original Data Type: uint8\n",
            "Normalized Data Type: float64\n",
            "Original Min/Max (first image): 0 208\n",
            "Normalized Min/Max (first image): 0.0 0.8156862745098039\n",
            "\n",
            "Shape of normalized training data: (20095, 48, 48, 1)\n",
            "Shape of normalized validation data: (4307, 48, 48, 1)\n",
            "Shape of normalized new test data: (4307, 48, 48, 1)\n"
          ]
        }
      ]
    },
    {
      "cell_type": "code",
      "source": [
        "import pandas as pd\n",
        "import numpy as np\n",
        "import torch\n",
        "from sklearn.model_selection import train_test_split\n",
        "\n",
        "# --- Convert Normalized NumPy Arrays and Labels to Tensors ---\n",
        "\n",
        "def convert_to_tensors(image_arrays, labels):\n",
        "    \"\"\"\n",
        "    Converts normalized image NumPy arrays and label Series/arrays to PyTorch tensors.\n",
        "\n",
        "    Args:\n",
        "        image_arrays (numpy.ndarray): Normalized image data (e.g., shape [N, H, W, C]).\n",
        "        labels (pandas.Series or numpy.ndarray): Labels (e.g., shape [N,]).\n",
        "\n",
        "    Returns:\n",
        "        tuple: (image_tensors, label_tensors)\n",
        "               image_tensors (torch.Tensor): Image data as float tensors.\n",
        "               label_tensors (torch.Tensor): Labels as long tensors.\n",
        "    \"\"\"\n",
        "    # Convert image arrays to float tensors.\n",
        "    # PyTorch typically expects image tensors in (N, C, H, W) format,\n",
        "    # while our NumPy arrays are currently (N, H, W, C).\n",
        "    # We need to permute (rearrange) the dimensions.\n",
        "    image_tensors = torch.tensor(image_arrays, dtype=torch.float32).permute(0, 3, 1, 2)\n",
        "\n",
        "    # Convert labels (which might be a pandas Series) to a NumPy array first, then to long tensor.\n",
        "    # torch.long is used for classification labels in CrossEntropyLoss.\n",
        "    if isinstance(labels, pd.Series):\n",
        "        label_tensors = torch.tensor(labels.values, dtype=torch.long)\n",
        "    else: # Assuming it's already a numpy array\n",
        "         label_tensors = torch.tensor(labels, dtype=torch.long)\n",
        "\n",
        "\n",
        "    return image_tensors, label_tensors\n",
        "\n",
        "# --- Apply Conversion to your Data Splits ---\n",
        "\n",
        "X_train_tensor, y_train_tensor = convert_to_tensors(X_train_normalized, y_train)\n",
        "X_val_tensor, y_val_tensor = convert_to_tensors(X_val_normalized, y_val)\n",
        "X_test_new_tensor, y_test_new_tensor = convert_to_tensors(X_test_new_normalized, y_test_new)\n",
        "\n",
        "\n",
        "# --- Verification (Optional) ---\n",
        "print(\"Shape of training image tensor:\", X_train_tensor.shape)\n",
        "print(\"Data type of training image tensor:\", X_train_tensor.dtype)\n",
        "print(\"Shape of training label tensor:\", y_train_tensor.shape)\n",
        "print(\"Data type of training label tensor:\", y_train_tensor.dtype)\n",
        "\n",
        "print(\"\\nShape of validation image tensor:\", X_val_tensor.shape)\n",
        "print(\"Shape of validation label tensor:\", y_val_tensor.shape)\n",
        "\n",
        "print(\"\\nShape of new test image tensor:\", X_test_new_tensor.shape)\n",
        "print(\"Shape of new test label tensor:\", y_test_new_tensor.shape)"
      ],
      "metadata": {
        "colab": {
          "base_uri": "https://localhost:8080/"
        },
        "id": "0xPmz3r24epw",
        "outputId": "9ec9654e-d5ea-442e-e63b-1eb3db9d1b66"
      },
      "execution_count": 18,
      "outputs": [
        {
          "output_type": "stream",
          "name": "stdout",
          "text": [
            "Shape of training image tensor: torch.Size([20095, 1, 48, 48])\n",
            "Data type of training image tensor: torch.float32\n",
            "Shape of training label tensor: torch.Size([20095])\n",
            "Data type of training label tensor: torch.int64\n",
            "\n",
            "Shape of validation image tensor: torch.Size([4307, 1, 48, 48])\n",
            "Shape of validation label tensor: torch.Size([4307])\n",
            "\n",
            "Shape of new test image tensor: torch.Size([4307, 1, 48, 48])\n",
            "Shape of new test label tensor: torch.Size([4307])\n"
          ]
        }
      ]
    },
    {
      "cell_type": "code",
      "source": [
        "import pandas as pd\n",
        "import numpy as np\n",
        "import torch\n",
        "from torch.utils.data import Dataset, DataLoader\n",
        "from sklearn.model_selection import train_test_split\n",
        "\n",
        "# --- Create Custom Dataset Class ---\n",
        "\n",
        "class EmotionDataset(Dataset):\n",
        "    \"\"\"Custom Dataset for facial emotion data.\"\"\"\n",
        "\n",
        "    def __init__(self, images, labels, transform=None):\n",
        "        \"\"\"\n",
        "        Args:\n",
        "            images (torch.Tensor): Tensor of images (N, C, H, W).\n",
        "            labels (torch.Tensor): Tensor of labels (N,).\n",
        "            transform (callable, optional): Optional transform to be applied\n",
        "                on a sample.\n",
        "        \"\"\"\n",
        "        self.images = images\n",
        "        self.labels = labels\n",
        "        self.transform = transform\n",
        "\n",
        "    def __len__(self):\n",
        "        return len(self.labels) # The number of samples\n",
        "\n",
        "    def __getitem__(self, idx):\n",
        "        # Get image and label for the given index\n",
        "        image = self.images[idx]\n",
        "        label = self.labels[idx]\n",
        "\n",
        "        # Apply transform if any (though we've already normalized,\n",
        "        # this is where augmentation would typically go for train)\n",
        "        if self.transform:\n",
        "             pass\n",
        "\n",
        "        return image, label\n",
        "\n",
        "# --- Create Datasets ---\n",
        "train_dataset = EmotionDataset(X_train_tensor, y_train_tensor, transform=None)\n",
        "val_dataset = EmotionDataset(X_val_tensor, y_val_tensor, transform=None)\n",
        "test_new_dataset = EmotionDataset(X_test_new_tensor, y_test_new_tensor, transform=None)"
      ],
      "metadata": {
        "id": "GXvVF5Ij62Sm"
      },
      "execution_count": 19,
      "outputs": []
    },
    {
      "cell_type": "code",
      "source": [
        "# --- Create DataLoaders ---\n",
        "\n",
        "# Define batch size\n",
        "batch_size = 64 # A common starting batch size\n",
        "\n",
        "# Create DataLoaders\n",
        "# train_dataloader: shuffle=True is important for randomizing batches\n",
        "train_dataloader = DataLoader(train_dataset, batch_size=batch_size, shuffle=True)\n",
        "\n",
        "# val_dataloader: shuffle=False - order doesn't matter for evaluation\n",
        "val_dataloader = DataLoader(val_dataset, batch_size=batch_size, shuffle=False)\n",
        "\n",
        "# test_new_dataloader: shuffle=False - order doesn't matter for final evaluation\n",
        "test_new_dataloader = DataLoader(test_new_dataset, batch_size=batch_size, shuffle=False)\n",
        "\n",
        "print(f\"\\nBatch size: {batch_size}\")\n",
        "print(f\"Number of batches in training dataloader: {len(train_dataloader)}\")\n",
        "print(f\"Number of batches in validation dataloader: {len(val_dataloader)}\")\n",
        "print(f\"Number of batches in new test dataloader: {len(test_new_dataloader)}\")\n",
        "\n",
        "# --- Optional: Iterate through a batch to see the output format ---\n",
        "# Get the first batch from the training dataloader\n",
        "first_batch_images, first_batch_labels = next(iter(train_dataloader))\n",
        "\n",
        "print(\"\\n--- First Batch from Training Dataloader ---\")\n",
        "print(\"Shape of image batch:\", first_batch_images.shape)\n",
        "print(\"Data type of image batch:\", first_batch_images.dtype)\n",
        "print(\"Shape of label batch:\", first_batch_labels.shape)\n",
        "print(\"Data type of label batch:\", first_batch_labels.dtype)\n",
        "print(\"First 10 labels in the batch:\", first_batch_labels[:10])"
      ],
      "metadata": {
        "colab": {
          "base_uri": "https://localhost:8080/"
        },
        "id": "NRIRZqMa-30H",
        "outputId": "3b288948-a265-4e82-bcaf-1ade6e72403e"
      },
      "execution_count": 20,
      "outputs": [
        {
          "output_type": "stream",
          "name": "stdout",
          "text": [
            "\n",
            "Batch size: 64\n",
            "Number of batches in training dataloader: 314\n",
            "Number of batches in validation dataloader: 68\n",
            "Number of batches in new test dataloader: 68\n",
            "\n",
            "--- First Batch from Training Dataloader ---\n",
            "Shape of image batch: torch.Size([64, 1, 48, 48])\n",
            "Data type of image batch: torch.float32\n",
            "Shape of label batch: torch.Size([64])\n",
            "Data type of label batch: torch.int64\n",
            "First 10 labels in the batch: tensor([3, 4, 4, 2, 2, 3, 3, 4, 3, 1])\n"
          ]
        }
      ]
    },
    {
      "cell_type": "code",
      "source": [
        "import torch\n",
        "import torch.nn as nn\n",
        "import torch.nn.functional as F\n",
        "\n",
        "# --- Define a Very Simple Model Architecture (SimpleCNN) ---\n",
        "\n",
        "class SimpleCNN(nn.Module):\n",
        "    \"\"\"\n",
        "    A very simple CNN for grayscale 48x48 image classification.\n",
        "    Architecture: Conv -> ReLU -> Pool -> Conv -> ReLU -> Pool -> Flatten -> Linear\n",
        "    \"\"\"\n",
        "    def __init__(self, num_classes=7):\n",
        "        \"\"\"\n",
        "        Initializes the SimpleCNN model.\n",
        "\n",
        "        Args:\n",
        "            num_classes (int): The number of output classes (emotions). Defaults to 7.\n",
        "        \"\"\"\n",
        "        super(SimpleCNN, self).__init__()\n",
        "\n",
        "        # First convolutional layer\n",
        "        # Input channels: 1 (grayscale image)\n",
        "        # Output channels: 16 (number of filters/feature maps)\n",
        "        # Kernel size: 3x3 (a common small filter size)\n",
        "        # Padding: 1 (adds a border of 1 pixel around the image, helps maintain spatial dimensions)\n",
        "        self.conv1 = nn.Conv2d(in_channels=1, out_channels=16, kernel_size=3, padding=1)\n",
        "\n",
        "        # Max pooling layer\n",
        "        # Kernel size: 2x2 (window size for pooling)\n",
        "        # Stride: 2 (moves the window 2 steps at a time, effectively halves spatial dimensions)\n",
        "        self.pool = nn.MaxPool2d(kernel_size=2, stride=2)\n",
        "\n",
        "        # Second convolutional layer\n",
        "        # Input channels: 16 (output from the previous layer)\n",
        "        # Output channels: 32 (more filters to learn more complex features)\n",
        "        # Kernel size: 3x3\n",
        "        # Padding: 1\n",
        "        self.conv2 = nn.Conv2d(in_channels=16, out_channels=32, kernel_size=3, padding=1)\n",
        "\n",
        "        # Fully connected layer (Classifier)\n",
        "        # Input features: This depends on the output size of the last pooling layer.\n",
        "        # Let's calculate it:\n",
        "        # Input Image: 48x48\n",
        "        # After conv1 (padding 1): spatial size remains 48x48\n",
        "        # After pool (kernel 2, stride 2): spatial size becomes 48/2 = 24x24\n",
        "        # After conv2 (padding 1): spatial size remains 24x24\n",
        "        # After pool (kernel 2, stride 2): spatial size becomes 24/2 = 12x12\n",
        "        # The number of channels after conv2 is 32.\n",
        "        # So, the flattened size before the linear layer is 32 * 12 * 12 = 4608\n",
        "        self.fc1 = nn.Linear(32 * 12 * 12, num_classes)\n",
        "\n",
        "    def forward(self, x):\n",
        "        \"\"\"\n",
        "        Defines the forward pass of the model.\n",
        "\n",
        "        Args:\n",
        "            x (torch.Tensor): Input tensor representing a batch of images (N, 1, 48, 48).\n",
        "\n",
        "        Returns:\n",
        "            torch.Tensor: Output tensor representing the raw scores/logits for each class (N, num_classes).\n",
        "        \"\"\"\n",
        "        # Apply first convolution, ReLU activation, and pooling\n",
        "        x = self.pool(F.relu(self.conv1(x))) # -> N x 16 x 24 x 24\n",
        "\n",
        "        # Apply second convolution, ReLU activation, and pooling\n",
        "        x = self.pool(F.relu(self.conv2(x))) # -> N x 32 x 12 x 12\n",
        "\n",
        "        # Flatten the tensor for the fully connected layer\n",
        "        # x.view(-1, ...) reshapes the tensor. -1 infers the batch size.\n",
        "        x = x.view(-1, 32 * 12 * 12)       # -> N x (32*12*12) = N x 4608\n",
        "\n",
        "        # Apply the fully connected layer\n",
        "        x = self.fc1(x)                    # -> N x num_classes\n",
        "\n",
        "        # Note: We don't apply Softmax here. CrossEntropyLoss in PyTorch\n",
        "        # expects the raw logits (scores) and applies Softmax internally\n",
        "        # for numerical stability.\n",
        "\n",
        "        return x"
      ],
      "metadata": {
        "id": "C0JIqrG6-9hp"
      },
      "execution_count": 21,
      "outputs": []
    },
    {
      "cell_type": "code",
      "source": [
        "# --- Instantiate the Model ---\n",
        "num_classes = 7\n",
        "model = SimpleCNN(num_classes=num_classes)\n",
        "\n",
        "print(model)\n",
        "\n",
        "# --- Optional: Move model to device (GPU if available) ---\n",
        "device = \"cuda\" if torch.cuda.is_available() else \"cpu\"\n",
        "model.to(device)\n",
        "print(f\"Model moved to: {device}\")\n",
        "wandb.watch(model, log=\"all\")"
      ],
      "metadata": {
        "colab": {
          "base_uri": "https://localhost:8080/"
        },
        "id": "5jAaONq1zfKi",
        "outputId": "81d1a1da-ca81-4145-e957-23e9c029b191"
      },
      "execution_count": 22,
      "outputs": [
        {
          "output_type": "stream",
          "name": "stdout",
          "text": [
            "SimpleCNN(\n",
            "  (conv1): Conv2d(1, 16, kernel_size=(3, 3), stride=(1, 1), padding=(1, 1))\n",
            "  (pool): MaxPool2d(kernel_size=2, stride=2, padding=0, dilation=1, ceil_mode=False)\n",
            "  (conv2): Conv2d(16, 32, kernel_size=(3, 3), stride=(1, 1), padding=(1, 1))\n",
            "  (fc1): Linear(in_features=4608, out_features=7, bias=True)\n",
            ")\n",
            "Model moved to: cpu\n"
          ]
        }
      ]
    },
    {
      "cell_type": "code",
      "source": [
        "import torch\n",
        "import torch.nn as nn\n",
        "import torch.nn.functional as F\n",
        "import torch.optim as optim\n",
        "from torch.utils.data import Dataset, DataLoader\n",
        "import wandb # Import wandb\n",
        "\n",
        "# --- Define Loss Function and Optimizer ---\n",
        "\n",
        "criterion = nn.CrossEntropyLoss()\n",
        "optimizer = optim.Adam(model.parameters(), lr=0.001)\n",
        "\n",
        "# --- Training and Validation Functions ---\n",
        "\n",
        "def train_epoch(model, dataloader, criterion, optimizer, device):\n",
        "    \"\"\"Trains the model for one epoch and logs to wandb.\"\"\"\n",
        "    model.train()\n",
        "    running_loss = 0.0\n",
        "    correct_predictions = 0\n",
        "    total_samples = 0\n",
        "\n",
        "    for inputs, labels in dataloader:\n",
        "        inputs, labels = inputs.to(device), labels.to(device)\n",
        "\n",
        "        optimizer.zero_grad()\n",
        "\n",
        "        outputs = model(inputs)\n",
        "        loss = criterion(outputs, labels)\n",
        "\n",
        "        loss.backward()\n",
        "        optimizer.step()\n",
        "\n",
        "        running_loss += loss.item() * inputs.size(0)\n",
        "        _, predicted = torch.max(outputs.data, 1)\n",
        "        total_samples += labels.size(0)\n",
        "        correct_predictions += (predicted == labels).sum().item()\n",
        "\n",
        "    epoch_loss = running_loss / total_samples\n",
        "    epoch_accuracy = correct_predictions / total_samples\n",
        "\n",
        "    # Log training metrics to wandb\n",
        "    wandb.log({\"train_loss\": epoch_loss, \"train_accuracy\": epoch_accuracy})\n",
        "\n",
        "    return epoch_loss, epoch_accuracy\n",
        "\n",
        "def validate_epoch(model, dataloader, criterion, device):\n",
        "    \"\"\"Validates the model for one epoch and logs to wandb.\"\"\"\n",
        "    model.eval()\n",
        "    running_loss = 0.0\n",
        "    correct_predictions = 0\n",
        "    total_samples = 0\n",
        "\n",
        "    with torch.no_grad():\n",
        "        for inputs, labels in dataloader:\n",
        "            inputs, labels = inputs.to(device), labels.to(device)\n",
        "\n",
        "            outputs = model(inputs)\n",
        "            loss = criterion(outputs, labels)\n",
        "\n",
        "            running_loss += loss.item() * inputs.size(0)\n",
        "            _, predicted = torch.max(outputs.data, 1)\n",
        "            total_samples += labels.size(0)\n",
        "            correct_predictions += (predicted == labels).sum().item()\n",
        "\n",
        "    epoch_loss = running_loss / total_samples\n",
        "    epoch_accuracy = correct_predictions / total_samples\n",
        "\n",
        "    # Log validation metrics to wandb\n",
        "    wandb.log({\"val_loss\": epoch_loss, \"val_accuracy\": epoch_accuracy})\n",
        "\n",
        "    return epoch_loss, epoch_accuracy\n",
        "\n",
        "# --- Training Loop ---\n",
        "\n",
        "num_epochs = 10\n",
        "\n",
        "print(f\"\\nStarting training for {num_epochs} epochs...\")\n",
        "\n",
        "for epoch in range(num_epochs):\n",
        "    train_loss, train_accuracy = train_epoch(model, train_dataloader, criterion, optimizer, device)\n",
        "    val_loss, val_accuracy = validate_epoch(model, val_dataloader, criterion, device)\n",
        "\n",
        "    print(f\"Epoch {epoch+1}/{num_epochs}: \"\n",
        "          f\"Train Loss: {train_loss:.4f}, Train Acc: {train_accuracy:.4f} | \"\n",
        "          f\"Val Loss: {val_loss:.4f}, Val Acc: {val_accuracy:.4f}\")\n",
        "\n",
        "print(\"\\nTraining finished.\")\n",
        "\n",
        "# --- Evaluate on New Test Set ---\n",
        "\n",
        "def evaluate_model(model, dataloader, criterion, device, set_name=\"Test\"):\n",
        "    \"\"\"Evaluates the model on a given dataloader and logs test accuracy to wandb.\"\"\"\n",
        "    model.eval()\n",
        "    running_loss = 0.0\n",
        "    correct_predictions = 0\n",
        "    total_samples = 0\n",
        "\n",
        "    with torch.no_grad():\n",
        "        for inputs, labels in dataloader:\n",
        "            inputs, labels = inputs.to(device), labels.to(device)\n",
        "\n",
        "            outputs = model(inputs)\n",
        "            loss = criterion(outputs, labels)\n",
        "\n",
        "            running_loss += loss.item() * inputs.size(0)\n",
        "            _, predicted = torch.max(outputs.data, 1)\n",
        "            total_samples += labels.size(0)\n",
        "            correct_predictions += (predicted == labels).sum().item()\n",
        "\n",
        "    avg_loss = running_loss / total_samples\n",
        "    accuracy = correct_predictions / total_samples\n",
        "\n",
        "    print(f\"\\n{set_name} Results:\")\n",
        "    print(f\"  Loss: {avg_loss:.4f}\")\n",
        "    print(f\"  Accuracy: {accuracy:.4f}\")\n",
        "\n",
        "    # Log test accuracy to wandb (optional but good practice)\n",
        "    wandb.log({f\"{set_name.lower().replace(' ', '_')}_loss\": avg_loss, f\"{set_name.lower().replace(' ', '_')}_accuracy\": accuracy})\n",
        "\n",
        "# Evaluate on the new test set drawn from the original training data\n",
        "evaluate_model(model, test_new_dataloader, criterion, device, set_name=\"New Test Set (from original train data)\")\n",
        "\n",
        "# It's good practice to call wandb.finish() when your run is complete\n",
        "# wandb.finish()"
      ],
      "metadata": {
        "colab": {
          "base_uri": "https://localhost:8080/"
        },
        "id": "MrhPa379E6id",
        "outputId": "2156f45d-e9f8-463d-b85e-38a7d6fd7382"
      },
      "execution_count": 23,
      "outputs": [
        {
          "output_type": "stream",
          "name": "stdout",
          "text": [
            "\n",
            "Starting training for 10 epochs...\n",
            "Epoch 1/10: Train Loss: 1.6859, Train Acc: 0.3294 | Val Loss: 1.6119, Val Acc: 0.3764\n",
            "Epoch 2/10: Train Loss: 1.5362, Train Acc: 0.4068 | Val Loss: 1.5059, Val Acc: 0.4258\n",
            "Epoch 3/10: Train Loss: 1.4428, Train Acc: 0.4509 | Val Loss: 1.4327, Val Acc: 0.4532\n",
            "Epoch 4/10: Train Loss: 1.3631, Train Acc: 0.4865 | Val Loss: 1.4130, Val Acc: 0.4637\n",
            "Epoch 5/10: Train Loss: 1.3076, Train Acc: 0.5094 | Val Loss: 1.3848, Val Acc: 0.4771\n",
            "Epoch 6/10: Train Loss: 1.2582, Train Acc: 0.5327 | Val Loss: 1.3805, Val Acc: 0.4757\n",
            "Epoch 7/10: Train Loss: 1.2201, Train Acc: 0.5461 | Val Loss: 1.3545, Val Acc: 0.4978\n",
            "Epoch 8/10: Train Loss: 1.1840, Train Acc: 0.5640 | Val Loss: 1.3528, Val Acc: 0.5031\n",
            "Epoch 9/10: Train Loss: 1.1492, Train Acc: 0.5785 | Val Loss: 1.3732, Val Acc: 0.5003\n",
            "Epoch 10/10: Train Loss: 1.1209, Train Acc: 0.5874 | Val Loss: 1.3783, Val Acc: 0.4936\n",
            "\n",
            "Training finished.\n",
            "\n",
            "New Test Set (from original train data) Results:\n",
            "  Loss: 1.3816\n",
            "  Accuracy: 0.4878\n"
          ]
        }
      ]
    }
  ]
}